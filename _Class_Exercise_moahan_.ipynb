{
 "cells": [
  {
   "cell_type": "markdown",
   "id": "b181293c",
   "metadata": {},
   "source": [
    "### 1. Write a Python class Employee with attributes like emp_id, emp_name, emp_salary, and\n",
    "emp_department and methods like calculate_emp_salary, emp_assign_department, and\n",
    "print_employee_details.\n",
    "### Sample Employee Data:\n",
    "#### \"ADAMS\", \"E7876\", 50000, \"ACCOUNTING\"\n",
    "#### \"JONES\", \"E7499\", 45000, \"RESEARCH\"\n",
    "#### \"MARTIN\", \"E7900\", 50000, \"SALES\"\n",
    "#### \"SMITH\", \"E7698\", 55000, \"OPERATIONS\"\n",
    "\n",
    " Use 'assign_department' method to change the department of an employee.\n",
    " Use 'print_employee_details' method to print the details of an employee.\n",
    " Use 'calculate_emp_salary' method takes two arguments: salary and hours_worked,\n",
    "which is the number of hours worked by the employee. If the number of hours worked\n",
    "is more than 50, the method computes overtime and adds it to the salary. Overtime is\n",
    "calculated as following formula:\n",
    "overtime = hours_worked - 50\n",
    "Overtime amount = (overtime * (salary / 50))"
   ]
  },
  {
   "cell_type": "code",
   "execution_count": 1,
   "id": "89a8964a",
   "metadata": {},
   "outputs": [
    {
     "name": "stdout",
     "output_type": "stream",
     "text": [
      "Over_time_salary= 150000.0\n",
      "TOTAL_Salary = 200000.0\n",
      "\n",
      " Name:::::::MOHAN\n",
      " Emp_ID:::::E7876\n",
      " Depart:::::OFFICE STAFF\n",
      "*********************************************************\n",
      "Over_time_salary= 18000.0\n",
      "TOTAL_Salary = 118000.0\n"
     ]
    }
   ],
   "source": [
    "class Employee():\n",
    "    \n",
    "    def __init__(self,name,emp_ID,salary,department):\n",
    "        self.name=name\n",
    "        self.emp_ID=emp_ID\n",
    "        self.salary=salary\n",
    "        self.department=department\n",
    "    def change_dep(self,dep):\n",
    "        \n",
    "        self.department=dep\n",
    "        #print(self.department)\n",
    "        print('\\n Name:::::::{}\\n Emp_ID:::::{}\\n Depart:::::{}'.format(self.name,self.emp_ID,self.department))\n",
    "    \n",
    "        \n",
    "    \n",
    "    def cal_salary(self,work_hours):\n",
    "        \n",
    "        over_time=work_hours-50\n",
    "        if over_time>0:\n",
    "            over_time_salary=over_time*(self.salary/50)\n",
    "            print('Over_time_salary=',over_time_salary)\n",
    "            TOTAL_Salary=over_time_salary+self.salary\n",
    "            print('TOTAL_Salary =',TOTAL_Salary)\n",
    "        else:\n",
    "            print(' Salary:::=',self.salary)\n",
    "\n",
    "emp1=Employee(\"MOHAN\", \"E7876\", 50000, \"ACCOUNTING\")\n",
    "emp2=Employee(\"GOPIKA\", \"416517465\", 100000, \"IT JOB\")\n",
    "\n",
    "\n",
    "#emp1.employee_details()\n",
    "emp1.cal_salary(200)\n",
    "emp1.change_dep('OFFICE STAFF')\n",
    "print('*********************************************************')\n",
    "#emp2.employee_details()\n",
    "\n",
    "emp2.cal_salary(59)"
   ]
  },
  {
   "cell_type": "markdown",
   "id": "3dbd955f",
   "metadata": {},
   "source": [
    "#####  Q2 2. Write a Python class Restaurant with attributes like menu_items, book_table, and\n",
    "##### customer_orders, and methods like add_item_to_menu, book_tables, and customer_order.\n",
    "##### Perform the following tasks now:\n",
    "###  Now add items to the menu.\n",
    "####  Make table reservations.\n",
    "####  Take customer orders.\n",
    "####  Print the menu.\n",
    "###   Print table reservations.\n",
    "####  Print customer orders."
   ]
  },
  {
   "cell_type": "code",
   "execution_count": 38,
   "id": "a8eb676e",
   "metadata": {},
   "outputs": [
    {
     "name": "stdout",
     "output_type": "stream",
     "text": [
      "::::::::::MENU::::::::\n",
      "ITEMS : :: PRICE\n",
      "--------------------------\n",
      "Tea :: 10\n",
      "--------------------------\n",
      "Coffe :: 20\n",
      "--------------------------\n",
      "Ice_creame :: 40\n",
      "--------------------------\n",
      "Cake_1kg :: 650\n",
      "--------------------------\n",
      "Reserve Table is ::: B2\n",
      "Your Order Item is   : Cake_1kg\n",
      "Total price =  650\n"
     ]
    }
   ],
   "source": [
    "class instacafe():\n",
    "\n",
    "    def __init__(self,item,table):\n",
    "        self.item=item\n",
    "        self.table=table\n",
    "        \n",
    "    def menu_view(self):\n",
    "        print('::::::::::MENU::::::::')\n",
    "        for key, value in self.item.items():\n",
    "            print(key,'::', value)\n",
    "            print('--------------------------')\n",
    "    def table_reserv(self,choose):\n",
    "        tables=self.table\n",
    "        \n",
    "        if choose < len(tables):\n",
    "            print('Reserve Table is :::',tables[choose])\n",
    "        else:\n",
    "            print('PLZ ENTER VALID TABLE NO LIKE: 0-1-2-3 ')\n",
    "    def take_order(self,order,qty ):\n",
    "    \n",
    "        if order in self.item:\n",
    "            for key  in self.item:\n",
    "            \n",
    "                if key==order:\n",
    "                    price=self.item[order]*qty\n",
    "                    \n",
    "                    print('Your Order Item is   :',order)\n",
    "                    print('Total price = ',price)\n",
    "        else:\n",
    "            print('SORRY !!! \\n Item Not Available Here')\n",
    "            \n",
    "                \n",
    "\n",
    "#  Now add items to the menu.\n",
    "items={}\n",
    "items['ITEMS :']=\"PRICE\"\n",
    "\n",
    "\n",
    "items.update({'Tea':10,'Coffe':20,'Ice_creame':40,'Cake_1kg':650})  \n",
    "\n",
    "table=['A1','B2','C3','D4']   #Make table reservations.\n",
    "\n",
    "\n",
    "menu=instacafe(items,table)     # Object   \n",
    "\n",
    "\n",
    "\n",
    "menu.menu_view()\n",
    "\n",
    "menu.table_reserv(1)\n",
    "\n",
    "menu.take_order('Cake_1kg',1)"
   ]
  },
  {
   "cell_type": "markdown",
   "id": "ac6081b4",
   "metadata": {},
   "source": [
    "### 3. Write a Python class BankAccount with attributes like account_number, balance,\n",
    "### cdate_of_opening and customer_name, and methods like deposit, withdraw, and\n",
    "### check_balance.\n",
    "\n"
   ]
  },
  {
   "cell_type": "code",
   "execution_count": 3,
   "id": "528ef666",
   "metadata": {},
   "outputs": [
    {
     "name": "stdout",
     "output_type": "stream",
     "text": [
      "customer_Name: MOHAN\n",
      "Account_Type : SAVING\n",
      "Account Number : 33223727971\n",
      "old balace = 25000\n",
      "Deposit amount= 5000\n",
      "New balance =  30000\n",
      "*************\n",
      "customer_Name: MOHAN\n",
      "Account_Type : SAVING\n",
      "Account Number : 33223727971\n",
      "Withdraw Amount =  2000\n",
      "Remaing Balance = 28000\n",
      "*************\n",
      "customer_Name: MOHAN\n",
      "Account_Type : SAVING\n",
      "Account Number : 33223727971\n",
      "your balance = 28000\n"
     ]
    }
   ],
   "source": [
    "class Account():\n",
    "    \n",
    "    def __init__(self,name,ac_type,opening_date,ac_No,balance):\n",
    "        self.name = name\n",
    "        self.ac_type = ac_type\n",
    "        self.opening_date = opening_date\n",
    "        self.ac_No = ac_No\n",
    "        self.balance = balance\n",
    "        \n",
    "    def deposit(self,dep_amount):\n",
    "        print('customer_Name:',self.name)\n",
    "        print('Account_Type :',self.ac_type)\n",
    "        print('Account Number :',self.ac_No)\n",
    "        print('old balace =',self.balance)\n",
    "        self.balance = self.balance + dep_amount\n",
    "        print('Deposit amount=',dep_amount)\n",
    "        print('New balance = ',self.balance)\n",
    "    def withdraw(self,withdraw_amount):\n",
    "        print('*************')\n",
    "        print('customer_Name:',self.name)\n",
    "        print('Account_Type :',self.ac_type)\n",
    "        print('Account Number :',self.ac_No)\n",
    "        self.balance = self.balance - withdraw_amount\n",
    "        \n",
    "        print('Withdraw Amount = ',withdraw_amount)\n",
    "        print('Remaing Balance =',self.balance)\n",
    "    def check_balance(self):\n",
    "        print('*************')\n",
    "        print('customer_Name:',self.name)\n",
    "        print('Account_Type :',self.ac_type)\n",
    "        print('Account Number :',self.ac_No)\n",
    "        print('your balance =',self.balance)\n",
    "\n",
    "customer = Account('MOHAN','SAVING','18/06/2004',33223727971,25000)\n",
    "\n",
    "customer.deposit(5000)\n",
    "customer.withdraw(2000)\n",
    "customer.check_balance()"
   ]
  },
  {
   "cell_type": "markdown",
   "id": "442e0920",
   "metadata": {},
   "source": [
    "### 4  Write a Python class Inventory with attributes like item_id, item_name, stock_count, and\n",
    "### price, and methods like add_item, update_item, and check_item_details.\n",
    "### Use a dictionary to store the item details, where the key is the item_id and the value is a\n",
    "### dictionary containing the item_name, stock_count, and price."
   ]
  },
  {
   "cell_type": "code",
   "execution_count": 37,
   "id": "dfe84dfa",
   "metadata": {},
   "outputs": [
    {
     "name": "stdout",
     "output_type": "stream",
     "text": [
      "****Add item list***\n",
      "item_1 ['jean', 1500, 750]\n",
      "item_2 ['shirt', 15222, 350]\n",
      "********New item list********\n",
      "Item_id & details : item_1 ['jean', 1500, 750]\n",
      "Item_id & details : item_2 ['shirt', 15222, 200]\n",
      "*******ITEM____Details*********\n",
      "Item_name::: shirt\n",
      "Item_Stock_Count= 15222\n",
      "Item_Price = 200\n"
     ]
    }
   ],
   "source": [
    "class store():\n",
    "    \n",
    "    def __init__(self,item):\n",
    "        self.item = item\n",
    "    \n",
    "    \n",
    "    def add_item (self,add_item_id,item_detail_list):\n",
    "        print('****Add item list***')\n",
    "        self.item[add_item_id] = item_detail_list\n",
    "        for i in self.item:\n",
    "            values = self.item[i]\n",
    "            print(i,values)\n",
    "    def update_item(self,update_item_ID,index_update,_value):\n",
    "        print('********New item list********')\n",
    "        self.item[update_item_ID][index_update] = _value\n",
    "        \n",
    "        for key,val in self.item.items():\n",
    "            print('Item_id & details :',key,val)\n",
    "        \n",
    "    def item_details(self,_item_ID):\n",
    "        print('*******ITEM____Details*********')\n",
    "        item_details=self.item[_item_ID]\n",
    "        for i in range(len(item_details)):\n",
    "            if i==0:\n",
    "                x=item_details[i]\n",
    "                print('Item_name:::',x)\n",
    "            elif i==1:\n",
    "                x=item_details[i]\n",
    "                print('Item_Stock_Count=',x)\n",
    "            elif i==2:\n",
    "                x=item_details[i]\n",
    "                print('Item_Price =',x)\n",
    "        \n",
    "item= {'item_1':['jean',1500,750]}\n",
    "\n",
    "item_001 = store(item)\n",
    "\n",
    "item_001.add_item('item_2',['shirt',15222,350] )\n",
    "item_001.update_item('item_2',2,200)\n",
    "item_001.item_details('item_2')"
   ]
  },
  {
   "cell_type": "code",
   "execution_count": 10,
   "id": "ba8e24b3",
   "metadata": {},
   "outputs": [
    {
     "data": {
      "text/plain": [
       "['jean', 1500, 750]"
      ]
     },
     "execution_count": 10,
     "metadata": {},
     "output_type": "execute_result"
    }
   ],
   "source": []
  },
  {
   "cell_type": "code",
   "execution_count": 21,
   "id": "77b17a72",
   "metadata": {},
   "outputs": [
    {
     "name": "stdout",
     "output_type": "stream",
     "text": [
      "PRICE\n",
      "10\n",
      "20\n",
      "40\n",
      "650\n"
     ]
    }
   ],
   "source": [
    "a= {'ITEMS :': 'PRICE', 'Tea': 10, 'Coffe': 20, 'Ice creame': 40, 'Cake 1kg': 650}\n",
    "for i , j in a.items():\n",
    "    print( j)\n"
   ]
  },
  {
   "cell_type": "code",
   "execution_count": 36,
   "id": "076041ad",
   "metadata": {},
   "outputs": [
    {
     "data": {
      "text/plain": [
       "650"
      ]
     },
     "execution_count": 36,
     "metadata": {},
     "output_type": "execute_result"
    }
   ],
   "source": [
    "B= a['Cake 1kg']\n",
    "B"
   ]
  },
  {
   "cell_type": "code",
   "execution_count": 37,
   "id": "e8b645a0",
   "metadata": {},
   "outputs": [
    {
     "data": {
      "text/plain": [
       "650"
      ]
     },
     "execution_count": 37,
     "metadata": {},
     "output_type": "execute_result"
    }
   ],
   "source": [
    "B"
   ]
  },
  {
   "cell_type": "code",
   "execution_count": null,
   "id": "9a3ca9a5",
   "metadata": {},
   "outputs": [],
   "source": []
  }
 ],
 "metadata": {
  "kernelspec": {
   "display_name": "Python 3 (ipykernel)",
   "language": "python",
   "name": "python3"
  },
  "language_info": {
   "codemirror_mode": {
    "name": "ipython",
    "version": 3
   },
   "file_extension": ".py",
   "mimetype": "text/x-python",
   "name": "python",
   "nbconvert_exporter": "python",
   "pygments_lexer": "ipython3",
   "version": "3.9.13"
  }
 },
 "nbformat": 4,
 "nbformat_minor": 5
}
