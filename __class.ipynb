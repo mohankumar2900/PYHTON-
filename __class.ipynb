{
 "cells": [
  {
   "cell_type": "code",
   "execution_count": 41,
   "id": "9fe48a82",
   "metadata": {},
   "outputs": [
    {
     "name": "stdout",
     "output_type": "stream",
     "text": [
      "Name= mohan\n",
      "Age  = 28\n",
      "City  = munnar\n",
      "student ID= 19500\n",
      "Total mark= 310\n",
      "Total_per=  77.5\n",
      "None\n",
      "**************************************\n",
      "Name= ram\n",
      "Age  = 30\n",
      "City  = ADOOR\n",
      "student ID= 654165\n",
      "Total mark= 258\n",
      "Total_per=  64.5\n",
      "None\n",
      "**************************************\n",
      "Name= siraj\n",
      "Age  = 26\n",
      "City  = PALA\n",
      "student ID= 5658698\n",
      "Total mark= 393\n",
      "Total_per=  98.25\n",
      "None\n"
     ]
    }
   ],
   "source": [
    "class Student():\n",
    "    \n",
    "    def __init__(self,name,age,sID,city,sub1_mark,sub2_mark,sub3_mark,sub4_mark):\n",
    "        self.name=name\n",
    "        self.age=age\n",
    "        self.sID=sID\n",
    "        self.city=city\n",
    "        self.sub1_mark=sub1_mark\n",
    "        self.sub2_mark=sub2_mark\n",
    "        self.sub3_mark=sub3_mark\n",
    "        self.sub4_mark=sub4_mark\n",
    "    \n",
    "    def student_details(self):\n",
    "        self.total_mark=self.sub1_mark+self.sub2_mark+self.sub3_mark+self.sub4_mark\n",
    "        Total_percentage=(self.total_mark/400)*100\n",
    "        \n",
    "        print('Name=',self.name)\n",
    "        print('Age  =',self.age)   \n",
    "        print('City  =',self.city)\n",
    "        print('student ID=',self.sID)\n",
    "        print('Total mark=',self.total_mark)\n",
    "        print('Total_per= ',Total_percentage)\n",
    "\n",
    "        \n",
    "    \n",
    "st1=Student('mohan', 28, 19500, 'munnar', 80, 75, 90, 65)\n",
    "st2=Student('Ram',30,654165,'ADOOR',80,70,40,68)\n",
    "st3=Student('siraj',26,5658698,'PALA',100,99,95,99)\n",
    "\n",
    "\n",
    "print(st1.student_details())\n",
    "print('**************************************')\n",
    "print(st2.student_details())\n",
    "print('**************************************')\n",
    "print(st3.student_details())\n",
    "\n"
   ]
  },
  {
   "cell_type": "code",
   "execution_count": 45,
   "id": "d7abaed3",
   "metadata": {},
   "outputs": [],
   "source": [
    "## Q2"
   ]
  },
  {
   "cell_type": "code",
   "execution_count": 57,
   "id": "49c6b808",
   "metadata": {},
   "outputs": [
    {
     "ename": "TypeError",
     "evalue": "acctount() takes 0 positional arguments but 3 were given",
     "output_type": "error",
     "traceback": [
      "\u001b[1;31m---------------------------------------------------------------------------\u001b[0m",
      "\u001b[1;31mTypeError\u001b[0m                                 Traceback (most recent call last)",
      "\u001b[1;32m~\\AppData\\Local\\Temp\\ipykernel_8624\\2172959728.py\u001b[0m in \u001b[0;36m<module>\u001b[1;34m\u001b[0m\n\u001b[0;32m     15\u001b[0m \u001b[1;33m\u001b[0m\u001b[0m\n\u001b[0;32m     16\u001b[0m \u001b[1;33m\u001b[0m\u001b[0m\n\u001b[1;32m---> 17\u001b[1;33m \u001b[0mcustomer1\u001b[0m\u001b[1;33m=\u001b[0m\u001b[0macctount\u001b[0m\u001b[1;33m(\u001b[0m\u001b[1;34m'MOHAN'\u001b[0m\u001b[1;33m,\u001b[0m\u001b[1;36m33223727971\u001b[0m\u001b[1;33m,\u001b[0m\u001b[1;36m25000\u001b[0m\u001b[1;33m)\u001b[0m\u001b[1;33m\u001b[0m\u001b[1;33m\u001b[0m\u001b[0m\n\u001b[0m\u001b[0;32m     18\u001b[0m \u001b[0mcustomer1\u001b[0m\u001b[1;33m.\u001b[0m\u001b[0mwithdra\u001b[0m\u001b[1;33m(\u001b[0m\u001b[1;36m500\u001b[0m\u001b[1;33m)\u001b[0m\u001b[1;33m\u001b[0m\u001b[1;33m\u001b[0m\u001b[0m\n\u001b[0;32m     19\u001b[0m \u001b[0mamount\u001b[0m\u001b[1;33m=\u001b[0m\u001b[0mint\u001b[0m\u001b[1;33m(\u001b[0m\u001b[0minput\u001b[0m\u001b[1;33m(\u001b[0m\u001b[1;34m'enter the widhtravel amound='\u001b[0m\u001b[1;33m)\u001b[0m\u001b[1;33m)\u001b[0m\u001b[1;33m\u001b[0m\u001b[1;33m\u001b[0m\u001b[0m\n",
      "\u001b[1;31mTypeError\u001b[0m: acctount() takes 0 positional arguments but 3 were given"
     ]
    }
   ],
   "source": [
    "def acctount():\n",
    "   \n",
    "    def __inti__(self,name,account_number,balance):\n",
    "        self.name=name\n",
    "        self.account_number=account_number\n",
    "        self.balance=balance\n",
    "    def withdra(self,amount):\n",
    "        \n",
    "        if x>=self.balance:\n",
    "            print('Insufficent amount')\n",
    "        else:\n",
    "            self.balance=self.balance-amount\n",
    "            print('available balance=',self.balance)\n",
    "    \n",
    "    \n",
    "customer1=acctount('MOHAN',33223727971,25000)\n",
    "customer1.withdra(500)\n",
    "amount=int(input('enter the widhtravel amound='))"
   ]
  },
  {
   "cell_type": "code",
   "execution_count": 2,
   "id": "73c335a9",
   "metadata": {},
   "outputs": [
    {
     "name": "stdout",
     "output_type": "stream",
     "text": [
      "name:rahul\n",
      "id:123\n"
     ]
    }
   ],
   "source": [
    "class Person:\n",
    "    def __init__(self,name):\n",
    "        self.name=name\n",
    "class Employee(Person):\n",
    "    def __init__(self,name,ids):\n",
    "        super().__init__(name)\n",
    "        self.id=ids\n",
    "    def display(self):\n",
    "        print(f\"name:{self.name}\\nid:{self.id}\")\n",
    "e1=Employee(\"rahul\",123)\n",
    "e1.display()"
   ]
  },
  {
   "cell_type": "code",
   "execution_count": 5,
   "id": "750775c4",
   "metadata": {},
   "outputs": [
    {
     "name": "stdout",
     "output_type": "stream",
     "text": [
      "your bill is:100\n",
      "your bill is:900.0\n",
      "your bill is:800.0\n"
     ]
    }
   ],
   "source": [
    "class Customer:\n",
    "    def __init__(self,cid,qnty,price):\n",
    "        self.cid=cid\n",
    "        self.qnty=qnty\n",
    "        self.price=price\n",
    "        self.discount=0\n",
    "    def generate_bill(self):\n",
    "        self.price=self.price*self.qnty\n",
    "        self.discountamount=self.price*self.discount\n",
    "        return self.price-self.discountamount\n",
    "class Silver_customer(Customer):\n",
    "    def __init__(self,cid,qnty,price):\n",
    "        super().__init__(cid,qnty,price)\n",
    "        self.discount=10/100\n",
    "class Golden_customer(Customer):\n",
    "    def __init__(self,cid,qnty,price):\n",
    "        Customer.__init__(self,cid,qnty,price)\n",
    "        self.discount=20/100\n",
    "        \n",
    "        \n",
    "c1=Customer(\"1\",1,100)\n",
    "print(f\"your bill is:{c1.generate_bill()}\")\n",
    "s1=Silver_customer(\"1\",10,100)\n",
    "print(f\"your bill is:{s1.generate_bill()}\")\n",
    "g1=Golden_customer(\"1\",10,100)\n",
    "print(f\"your bill is:{g1.generate_bill()}\")"
   ]
  },
  {
   "cell_type": "code",
   "execution_count": null,
   "id": "c940eddc",
   "metadata": {},
   "outputs": [],
   "source": []
  }
 ],
 "metadata": {
  "kernelspec": {
   "display_name": "Python 3 (ipykernel)",
   "language": "python",
   "name": "python3"
  },
  "language_info": {
   "codemirror_mode": {
    "name": "ipython",
    "version": 3
   },
   "file_extension": ".py",
   "mimetype": "text/x-python",
   "name": "python",
   "nbconvert_exporter": "python",
   "pygments_lexer": "ipython3",
   "version": "3.9.13"
  }
 },
 "nbformat": 4,
 "nbformat_minor": 5
}
