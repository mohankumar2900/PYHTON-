{
 "cells": [
  {
   "cell_type": "code",
   "execution_count": 1,
   "id": "0ae9cb4b",
   "metadata": {},
   "outputs": [],
   "source": [
    "class Employee:\n",
    "    def __init__(self,name,salary):\n",
    "        self.name=name\n",
    "        self.salary=salary #public member it can access from outside the class\n",
    "        self._salry=salary #protected member accessible withini the class and its subclas\n",
    "        self.__salry=salary #private member accessible only within the class"
   ]
  },
  {
   "cell_type": "markdown",
   "id": "641e4f84",
   "metadata": {},
   "source": [
    "## public memebers"
   ]
  },
  {
   "cell_type": "code",
   "execution_count": 5,
   "id": "700abc8f",
   "metadata": {},
   "outputs": [
    {
     "name": "stdout",
     "output_type": "stream",
     "text": [
      "Name:  Jessa Salary: 10000\n",
      "Name:  Jessa Salary: 10000\n"
     ]
    }
   ],
   "source": [
    "class Employee:\n",
    "# constructor\n",
    "    def __init__(self, name, salary):\n",
    "# public data members\n",
    "        self.name = name\n",
    "        self.salary = salary\n",
    "# public instance methods\n",
    "    def show(self):\n",
    "# accessing public data member\n",
    "        print(\"Name: \", self.name, 'Salary:', self.salary)\n",
    "# creating object of a class\n",
    "emp = Employee('Jessa', 10000)\n",
    "# accessing public data members\n",
    "\n",
    "print(\"Name: \", emp.name, 'Salary:', emp.salary)\n",
    "# calling public method of the class\n",
    "emp.show()"
   ]
  },
  {
   "cell_type": "markdown",
   "id": "6c2531ab",
   "metadata": {},
   "source": [
    "## private members "
   ]
  },
  {
   "cell_type": "code",
   "execution_count": 8,
   "id": "2e7a70ad",
   "metadata": {},
   "outputs": [
    {
     "name": "stdout",
     "output_type": "stream",
     "text": [
      "10000\n"
     ]
    },
    {
     "ename": "AttributeError",
     "evalue": "'Employee' object has no attribute '__salary'",
     "output_type": "error",
     "traceback": [
      "\u001b[1;31m---------------------------------------------------------------------------\u001b[0m",
      "\u001b[1;31mAttributeError\u001b[0m                            Traceback (most recent call last)",
      "\u001b[1;32m~\\AppData\\Local\\Temp\\ipykernel_11428\\1054125265.py\u001b[0m in \u001b[0;36m<module>\u001b[1;34m\u001b[0m\n\u001b[0;32m     12\u001b[0m \u001b[0memp\u001b[0m\u001b[1;33m.\u001b[0m\u001b[0mshow\u001b[0m\u001b[1;33m(\u001b[0m\u001b[1;33m)\u001b[0m\u001b[1;33m\u001b[0m\u001b[1;33m\u001b[0m\u001b[0m\n\u001b[0;32m     13\u001b[0m \u001b[1;31m# accessing private data members\u001b[0m\u001b[1;33m\u001b[0m\u001b[1;33m\u001b[0m\u001b[0m\n\u001b[1;32m---> 14\u001b[1;33m \u001b[0mprint\u001b[0m\u001b[1;33m(\u001b[0m\u001b[1;34m'Salary:'\u001b[0m\u001b[1;33m,\u001b[0m \u001b[0memp\u001b[0m\u001b[1;33m.\u001b[0m\u001b[0m__salary\u001b[0m\u001b[1;33m)\u001b[0m\u001b[1;33m\u001b[0m\u001b[1;33m\u001b[0m\u001b[0m\n\u001b[0m",
      "\u001b[1;31mAttributeError\u001b[0m: 'Employee' object has no attribute '__salary'"
     ]
    }
   ],
   "source": [
    "class Employee:\n",
    "# constructor\n",
    "    def __init__(self, name, salary):\n",
    "# public data member\n",
    "        self.name = name\n",
    "# private member\n",
    "        self.__salary = salary\n",
    "    def show(self):\n",
    "        print(self.__salary)\n",
    "# creating object of a class\n",
    "emp = Employee('Jessa', 10000)\n",
    "emp.show()\n",
    "# accessing private data members\n",
    "print('Salary:', emp.__salary)"
   ]
  },
  {
   "cell_type": "markdown",
   "id": "848996b6",
   "metadata": {},
   "source": [
    "## Accessing private members using name mangling"
   ]
  },
  {
   "cell_type": "code",
   "execution_count": 10,
   "id": "adba53f4",
   "metadata": {},
   "outputs": [
    {
     "name": "stdout",
     "output_type": "stream",
     "text": [
      "Name: Jessa\n",
      "Salary: 10000\n"
     ]
    }
   ],
   "source": [
    "class Employee:\n",
    "# constructor\n",
    "    def __init__(self, name, salary):\n",
    "# public data member\n",
    "        self.name = name\n",
    "# private member\n",
    "        self.__salary = salary\n",
    "# creating object of a class\n",
    "emp = Employee('Jessa', 10000)\n",
    "print('Name:', emp.name)\n",
    "# direct access to private member using name mangling\n",
    "print('Salary:', emp._Employee__salary)"
   ]
  },
  {
   "cell_type": "code",
   "execution_count": null,
   "id": "f9ce7adf",
   "metadata": {},
   "outputs": [],
   "source": []
  },
  {
   "cell_type": "markdown",
   "id": "2eb8c61c",
   "metadata": {},
   "source": [
    "#  protected members"
   ]
  },
  {
   "cell_type": "code",
   "execution_count": 9,
   "id": "ae6af29b",
   "metadata": {},
   "outputs": [
    {
     "name": "stdout",
     "output_type": "stream",
     "text": [
      "Employee name : Jessa\n",
      "Working on project : NLP\n",
      "Project: NLP\n"
     ]
    }
   ],
   "source": [
    "class Company:\n",
    "    def __init__(self):\n",
    "# Protected member\n",
    "        self._project = \"NLP\"\n",
    "# child class\n",
    "class Employee(Company):\n",
    "    def __init__(self, name):\n",
    "        self.name = name\n",
    "        Company.__init__(self)\n",
    "    def show(self):\n",
    "        print(\"Employee name :\", self.name)\n",
    "# Accessing protected member in child class\n",
    "        print(\"Working on project :\", self._project)\n",
    "c = Employee(\"Jessa\")\n",
    "c.show()\n",
    "# Direct access protected data member\n",
    "print('Project:', c._project)"
   ]
  },
  {
   "cell_type": "markdown",
   "id": "91b0242a",
   "metadata": {},
   "source": [
    "## private methods "
   ]
  },
  {
   "cell_type": "code",
   "execution_count": 12,
   "id": "10403cd0",
   "metadata": {},
   "outputs": [
    {
     "name": "stdout",
     "output_type": "stream",
     "text": [
      "Public method\n",
      "Public method\n",
      "Private method\n"
     ]
    },
    {
     "ename": "AttributeError",
     "evalue": "'A' object has no attribute '__fun'",
     "output_type": "error",
     "traceback": [
      "\u001b[1;31m---------------------------------------------------------------------------\u001b[0m",
      "\u001b[1;31mAttributeError\u001b[0m                            Traceback (most recent call last)",
      "\u001b[1;32m~\\AppData\\Local\\Temp\\ipykernel_11428\\2810015658.py\u001b[0m in \u001b[0;36m<module>\u001b[1;34m\u001b[0m\n\u001b[0;32m     15\u001b[0m \u001b[1;31m#obj.__fun()\u001b[0m\u001b[1;33m\u001b[0m\u001b[1;33m\u001b[0m\u001b[0m\n\u001b[0;32m     16\u001b[0m \u001b[0mobj\u001b[0m\u001b[1;33m.\u001b[0m\u001b[0mHelp\u001b[0m\u001b[1;33m(\u001b[0m\u001b[1;33m)\u001b[0m\u001b[1;33m\u001b[0m\u001b[1;33m\u001b[0m\u001b[0m\n\u001b[1;32m---> 17\u001b[1;33m \u001b[0mobj\u001b[0m\u001b[1;33m.\u001b[0m\u001b[0m__fun\u001b[0m\u001b[1;33m(\u001b[0m\u001b[1;33m)\u001b[0m\u001b[1;33m\u001b[0m\u001b[1;33m\u001b[0m\u001b[0m\n\u001b[0m",
      "\u001b[1;31mAttributeError\u001b[0m: 'A' object has no attribute '__fun'"
     ]
    }
   ],
   "source": [
    "class A:\n",
    "# Declaring public method\n",
    "    def fun(self):\n",
    "        print(\"Public method\")\n",
    "# Declaring private method\n",
    "    def __fun(self):\n",
    "        print(\"Private method\")\n",
    "# Calling private method via\n",
    "# another method\n",
    "    def Help(self):\n",
    "        self.fun()\n",
    "        self.__fun()\n",
    "obj=A()\n",
    "obj.fun()\n",
    "#obj.__fun()\n",
    "obj.Help()\n",
    "obj.__fun()"
   ]
  },
  {
   "cell_type": "code",
   "execution_count": 14,
   "id": "b197a5fb",
   "metadata": {},
   "outputs": [
    {
     "ename": "AttributeError",
     "evalue": "'B' object has no attribute '__fun'",
     "output_type": "error",
     "traceback": [
      "\u001b[1;31m---------------------------------------------------------------------------\u001b[0m",
      "\u001b[1;31mAttributeError\u001b[0m                            Traceback (most recent call last)",
      "\u001b[1;32m~\\AppData\\Local\\Temp\\ipykernel_11428\\190871376.py\u001b[0m in \u001b[0;36m<module>\u001b[1;34m\u001b[0m\n\u001b[0;32m      9\u001b[0m     \u001b[1;32mpass\u001b[0m\u001b[1;33m\u001b[0m\u001b[1;33m\u001b[0m\u001b[0m\n\u001b[0;32m     10\u001b[0m \u001b[0mb\u001b[0m\u001b[1;33m=\u001b[0m\u001b[0mB\u001b[0m\u001b[1;33m(\u001b[0m\u001b[1;33m)\u001b[0m\u001b[1;33m\u001b[0m\u001b[1;33m\u001b[0m\u001b[0m\n\u001b[1;32m---> 11\u001b[1;33m \u001b[0mb\u001b[0m\u001b[1;33m.\u001b[0m\u001b[0m__fun\u001b[0m\u001b[1;33m(\u001b[0m\u001b[1;33m)\u001b[0m\u001b[1;33m\u001b[0m\u001b[1;33m\u001b[0m\u001b[0m\n\u001b[0m",
      "\u001b[1;31mAttributeError\u001b[0m: 'B' object has no attribute '__fun'"
     ]
    }
   ],
   "source": [
    "class A:\n",
    "# Declaring public method\n",
    "    def fun(self):\n",
    "        print(\"Public method\")\n",
    "# Declaring private method\n",
    "    def __fun(self):\n",
    "        print(\"Private method\")\n",
    "class B(A):\n",
    "    pass\n",
    "b=B()\n",
    "b.__fun()"
   ]
  },
  {
   "cell_type": "code",
   "execution_count": null,
   "id": "88e4a12b",
   "metadata": {},
   "outputs": [],
   "source": []
  }
 ],
 "metadata": {
  "kernelspec": {
   "display_name": "Python 3 (ipykernel)",
   "language": "python",
   "name": "python3"
  },
  "language_info": {
   "codemirror_mode": {
    "name": "ipython",
    "version": 3
   },
   "file_extension": ".py",
   "mimetype": "text/x-python",
   "name": "python",
   "nbconvert_exporter": "python",
   "pygments_lexer": "ipython3",
   "version": "3.9.13"
  }
 },
 "nbformat": 4,
 "nbformat_minor": 5
}
