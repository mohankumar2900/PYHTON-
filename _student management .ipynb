{
 "cells": [
  {
   "cell_type": "markdown",
   "id": "26be3692",
   "metadata": {},
   "source": [
    " Student management system in Python\n",
    "Problem Statement: Write a program to build a simple Student Management System using\n",
    "Python which can perform the following operations:\n",
    "1. Accept\n",
    "2. Display\n",
    "3. Search\n",
    "4. Delete\n",
    "5. Update\n",
    "Approach: Below is the approach to doing the above operations:\n",
    "\n",
    "1 Accept – This method takes details from the user like name, roll number, and marks\n",
    "for two different subjects.\n",
    "2 Display – This method displays the details of every student.\n",
    "3 Search – This method searches for a particular student from the list of students.\n",
    "This method will ask the user for roll number and then search according to the roll\n",
    "number\n",
    "4 Delete – This method deletes the record of a particular student with a matching roll\n",
    "number.\n",
    "5 Update – This method updates the roll number of the student. This method will ask\n",
    "for the old roll number and new roll number. It will replace the old roll number with\n",
    "a new roll number."
   ]
  },
  {
   "cell_type": "code",
   "execution_count": 3,
   "id": "a6e5cb47",
   "metadata": {},
   "outputs": [],
   "source": [
    "def user_input():\n",
    "    for i in range(100):\n",
    "        x= input('CAN  you COUNTINUE tha step ? Yes or No').upper()\n",
    "        if x=='YES':\n",
    "            name=input('ENTER YOUR NAME :)').upper()\n",
    "            roll=int(input('ENTER YOUR ROLL_NO :)'))\n",
    "            sub1=int(input('ENTER YOUR 1st SUBJECT MARK :)'))\n",
    "            sub2=int(input('ENTER YOUR 2nd SUBJECT MARK :)'))\n",
    "            S1.accept(name,roll,sub1,sub2)\n",
    "        if x=='NO':\n",
    "            print('................THANK YOU.............. ')\n",
    "            break\n"
   ]
  },
  {
   "cell_type": "code",
   "execution_count": 19,
   "id": "c1de74a2",
   "metadata": {},
   "outputs": [
    {
     "name": "stdout",
     "output_type": "stream",
     "text": [
      "CAN  you COUNTINUE tha step ? Yes or Noyes\n",
      "ENTER YOUR NAME :)mohan\n",
      "ENTER YOUR ROLL_NO :)4829\n",
      "ENTER YOUR 1st SUBJECT MARK :)98\n",
      "ENTER YOUR 2nd SUBJECT MARK :)96\n",
      "CAN  you COUNTINUE tha step ? Yes or Nono\n",
      "................THANK YOU.............. \n"
     ]
    }
   ],
   "source": [
    "class Student:\n",
    "    pass\n",
    "    def __init__(self):\n",
    "        self.name= []\n",
    "        self.roll_num = []\n",
    "        self.sub_dic = {}\n",
    "        self.Total =[]\n",
    "    def accept(self,name,roll_no,sub_dic1,sub2):\n",
    "        self.name.append(name)\n",
    "        self.roll_num.append(roll_no)\n",
    "        self.sub_dic['sub_1']=sub_dic1\n",
    "        self.sub_dic['sub_2']=sub2\n",
    "        self.Total.append(sub_dic1+sub2)\n",
    "        \n",
    "    def Search(self,n):\n",
    "        \n",
    "        if n in self.name :\n",
    "            print('user name is found')\n",
    "            x=input('Can you see more about user ? Yes/No').upper()\n",
    "            if x=='YES':\n",
    "                print('NAME: ',n)\n",
    "                index=self.name.index(n.upper())\n",
    "                roll = self.roll_num[index]\n",
    "                print('ROLL NO :',roll)\n",
    "                \n",
    "                for sub,mark in self.sub_dic.items():\n",
    "                    print (f\"SUBJECT NAME ={sub} \\nMARK  = {mark}\")\n",
    "                print('TOTAL=',self.Total[index])\n",
    "            else:\n",
    "                print('Thank you')\n",
    "        else:\n",
    "            print('name is not found ,TRY UPPER CASE ...')\n",
    "    def update(self):\n",
    "        old_rollno=int(input(\"enter the oldrollno: \"))\n",
    "        \n",
    "        if old_rollno in self.roll_num:\n",
    "            print(f'your current roll number is {old_rollno}')\n",
    "            user =(input(\"If u change enter the Roll_no: YES / NO ? \")).upper()\n",
    "            if user =='YES':\n",
    "                new_rollno = int(input('enter the your new roll number :'))\n",
    "                x=self.roll_num.index(old_rollno)\n",
    "                self.roll_num[x]=new_rollno\n",
    "                print('your roll number is change succusfully...')\n",
    "            else:\n",
    "                print('your roll number not change :')\n",
    "            \n",
    "        \n",
    "    def delete(self):\n",
    "        del_roll= int(input('enter the roll  number '))\n",
    "        if del_roll in self.roll_num:\n",
    "            x=self.roll_num.index(del_roll)\n",
    "            self.roll_num.pop(x)\n",
    "            self.name.pop(x)\n",
    "            print('your record will be delet succusfully...')\n",
    "        \n",
    "           \n",
    "        \n",
    "        \n",
    "S1=Student() \n",
    "user_input()"
   ]
  },
  {
   "cell_type": "code",
   "execution_count": 20,
   "id": "afcfc74c",
   "metadata": {},
   "outputs": [
    {
     "name": "stdout",
     "output_type": "stream",
     "text": [
      "user name is found\n",
      "Can you see more about user ? Yes/Noyes\n",
      "NAME:  MOHAN\n",
      "ROLL NO : 4829\n",
      "SUBJECT NAME =sub_1 \n",
      "MARK  = 98\n",
      "SUBJECT NAME =sub_2 \n",
      "MARK  = 96\n",
      "TOTAL= 194\n"
     ]
    }
   ],
   "source": [
    "S1.Search('MOHAN')"
   ]
  },
  {
   "cell_type": "code",
   "execution_count": 12,
   "id": "5c3f0a78",
   "metadata": {},
   "outputs": [
    {
     "name": "stdout",
     "output_type": "stream",
     "text": [
      "enter the oldrollno: 4829\n",
      "your current roll number is 4829\n",
      "If u change enter the Roll_no: YES / NO ? YES\n",
      "enter the your new roll number :2900\n",
      "your roll number is change succusfully...\n"
     ]
    }
   ],
   "source": [
    "S1.update()"
   ]
  },
  {
   "cell_type": "code",
   "execution_count": 22,
   "id": "08a5210d",
   "metadata": {},
   "outputs": [
    {
     "name": "stdout",
     "output_type": "stream",
     "text": [
      "name is not found ,TRY UPPER CASE ...\n"
     ]
    }
   ],
   "source": [
    "S1.Search('MOHAN')\n"
   ]
  },
  {
   "cell_type": "code",
   "execution_count": 21,
   "id": "57ffcd13",
   "metadata": {},
   "outputs": [
    {
     "name": "stdout",
     "output_type": "stream",
     "text": [
      "enter the roll  number 4829\n",
      "your record will be delet succusfully...\n"
     ]
    }
   ],
   "source": [
    "S1.delete()"
   ]
  },
  {
   "cell_type": "code",
   "execution_count": null,
   "id": "01dfb392",
   "metadata": {},
   "outputs": [],
   "source": []
  }
 ],
 "metadata": {
  "kernelspec": {
   "display_name": "Python 3 (ipykernel)",
   "language": "python",
   "name": "python3"
  },
  "language_info": {
   "codemirror_mode": {
    "name": "ipython",
    "version": 3
   },
   "file_extension": ".py",
   "mimetype": "text/x-python",
   "name": "python",
   "nbconvert_exporter": "python",
   "pygments_lexer": "ipython3",
   "version": "3.9.13"
  }
 },
 "nbformat": 4,
 "nbformat_minor": 5
}
